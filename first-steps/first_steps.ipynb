{
 "cells": [
  {
   "cell_type": "markdown",
   "id": "b11f61c4-b566-41b7-9a84-86ad443fff10",
   "metadata": {
    "tags": []
   },
   "source": [
    "# Lab 1: Configuring & Running Experiments in SimBricks\n",
    "\n",
    "## 1. Minimal 2-Host Experiment\n",
    "To get started, we will set up a simple experiment with two hosts that have one NIC each and are connected through a basic switch. The hosts run Linux with the regular network stack, and run the standard `iperf` network benchmark, with one host acting as the server, and the other as the client.\n",
    "\n",
    "To keep simulation times low for testing here, we use unsynchronized and inaccurate simulator configurations: QEMU with KVM acceleration (if available), the behavioral Intel x710 (`i40e`) NIC model, and our simple behavioral switch."
   ]
  },
  {
   "cell_type": "code",
   "execution_count": 1,
   "id": "68456521-4d2c-4b6b-93a8-3c8b5675c0cf",
   "metadata": {},
   "outputs": [],
   "source": [
    "import re\n",
    "import asyncio\n",
    "from simbricks.orchestration import system as sys_mod\n",
    "from simbricks.orchestration import simulation\n",
    "from simbricks.orchestration import instantiation\n",
    "from simbricks.utils import base as utils_base\n",
    "from simbricks.client.opus import base as opus_base"
   ]
  },
  {
   "cell_type": "markdown",
   "id": "6e6f9399-9ba5-4bb4-8966-7af01b159640",
   "metadata": {},
   "source": [
    "### 1.1. System Specification\n",
    "We will start by specifiying the system from which we want to create a virtual prototype of. This is the usual way to start a SimBricks script.\n",
    "\n",
    "Writing this system specification is about specifying **what** we want to simulate instead of making a choice on how (i.e. which simulator to use) to simulate "
   ]
  },
  {
   "cell_type": "markdown",
   "id": "c4602478-5f5a-4806-8fcc-0ad8bf2f7c8c",
   "metadata": {},
   "source": [
    "The first step is to create an `System` object. This object contains pointers to all relevant components of the system we want to simulate. Later on we will use those components and decide for each which simulator we want to use."
   ]
  },
  {
   "cell_type": "code",
   "execution_count": 2,
   "id": "8ece411b-d01a-4005-a2e9-81c388c8f238",
   "metadata": {},
   "outputs": [],
   "source": [
    "syst = sys_mod.System()"
   ]
  },
  {
   "cell_type": "markdown",
   "id": "16ad611a-39bf-424a-97bd-fb76b1756c7a",
   "metadata": {},
   "source": [
    "Now we create a host specification for our client and add it to our system object. In this case we create Linux host that is supposed to have the driver for the IntelI40E nic available. Then we add two disk images. The `DistroDiskImage` is one of the linux images distributed alongside SimBricks that contains the required driver. The `LinuxConfigDiskImage` will later on store the actual commands that we want to execute during the simulation on this host.   "
   ]
  },
  {
   "cell_type": "code",
   "execution_count": 3,
   "id": "c7f86f01-55ea-4ecd-a5d5-d077e54cbdcd",
   "metadata": {},
   "outputs": [],
   "source": [
    "# create client\n",
    "host0 = sys_mod.I40ELinuxHost(syst)\n",
    "host0.add_disk(sys_mod.DistroDiskImage(h=host0, name=\"base\"))\n",
    "host0.add_disk(sys_mod.LinuxConfigDiskImage(h=host0))"
   ]
  },
  {
   "cell_type": "markdown",
   "id": "4539c073-f2bb-4de5-adf2-4599904a4ec3",
   "metadata": {},
   "source": [
    "After configuring the client host, we create a specification for an i40e NIC model, and connect it to both the host using a PCIe interface. Under the hood SimBricks system specifications use a notion of device interfaces that are connected through a channel. SImilar to the real world, we further assign an IP address to the NIC that will be made accessible to the host when connecting the NICs interface to the host. "
   ]
  },
  {
   "cell_type": "code",
   "execution_count": 4,
   "id": "5b1a5b63-74ff-40a2-9376-2757174b39cb",
   "metadata": {},
   "outputs": [
    {
     "data": {
      "text/plain": [
       "<simbricks.orchestration.system.pcie.PCIeChannel at 0x7e35181798a0>"
      ]
     },
     "execution_count": 4,
     "metadata": {},
     "output_type": "execute_result"
    }
   ],
   "source": [
    "# create client NIC\n",
    "nic0 = sys_mod.IntelI40eNIC(syst)\n",
    "nic0.add_ipv4(\"10.0.0.1\")\n",
    "host0.connect_pcie_dev(nic0)"
   ]
  },
  {
   "cell_type": "markdown",
   "id": "506232f7-17f0-48bc-8253-04bcc1c39965",
   "metadata": {},
   "source": [
    "Similar to the client, we create a server and attach a nic to the server."
   ]
  },
  {
   "cell_type": "code",
   "execution_count": 5,
   "id": "3ffad74a-5a01-457a-b064-76322c6c6fd0",
   "metadata": {},
   "outputs": [
    {
     "data": {
      "text/plain": [
       "<simbricks.orchestration.system.pcie.PCIeChannel at 0x7e351817b100>"
      ]
     },
     "execution_count": 5,
     "metadata": {},
     "output_type": "execute_result"
    }
   ],
   "source": [
    "# create server\n",
    "host1 = sys_mod.I40ELinuxHost(syst)\n",
    "host1.add_disk(sys_mod.DistroDiskImage(h=host1, name=\"base\"))\n",
    "host1.add_disk(sys_mod.LinuxConfigDiskImage(h=host1))\n",
    "# create server NIC\n",
    "nic1 = sys_mod.IntelI40eNIC(syst)\n",
    "nic1.add_ipv4(\"10.0.0.2\")\n",
    "host1.connect_pcie_dev(nic1)"
   ]
  },
  {
   "cell_type": "markdown",
   "id": "f2fa2934-5435-4984-9046-c075f4dc9796",
   "metadata": {},
   "source": [
    "After creating and connecting the nic to our client host, we specify the application to run during the simulation. For the client we choose an iperf TCP client and pass it the server IP address to connect to. Further we specify the wait flag on that application. The wait flag is important to tell SimBricks to wait until this application ran through until the simualtion can be stopped and cleaned up (many simulators, for like a network simulator typically run until they are manually stopped when an experiment is executed. To basically tell SimBricks what applications and components we wait for, the wait flag is used)."
   ]
  },
  {
   "cell_type": "code",
   "execution_count": 6,
   "id": "82977f37-d37e-4b22-8d8a-f3b1abfa9a67",
   "metadata": {},
   "outputs": [],
   "source": [
    "# set client application\n",
    "client_app = sys_mod.IperfTCPClient(h=host0, server_ip=nic1._ip)\n",
    "client_app.wait = True\n",
    "host0.add_app(client_app)"
   ]
  },
  {
   "cell_type": "markdown",
   "id": "0751241c-d3f1-4be3-9ca8-cf5d0c760619",
   "metadata": {},
   "source": [
    "Again, similar to the client casae, we create a iperf server application and assign it to the server host we created before. Note that we do not need to specify the wait flag in this case, as we are interested in the client application to finish, not the server one."
   ]
  },
  {
   "cell_type": "code",
   "execution_count": 7,
   "id": "d8fbab64-429c-4840-bf8f-da4e2650ca4e",
   "metadata": {},
   "outputs": [],
   "source": [
    "# set server application\n",
    "server_app = sys_mod.IperfTCPServer(h=host1)\n",
    "host1.add_app(server_app)"
   ]
  },
  {
   "cell_type": "markdown",
   "id": "d6425a15-33ba-4ae8-9f06-7430c17edf82",
   "metadata": {},
   "source": [
    "Once we specified the client and server host/NICs we want to simulate, we create a specificatio of a simple switch that we connect to the ethernet interfaces of the previously created NICs to connect those with each other like in a real network."
   ]
  },
  {
   "cell_type": "code",
   "execution_count": 8,
   "id": "6dd96824-d41e-4d19-80ed-17aa6d9ff0bb",
   "metadata": {},
   "outputs": [
    {
     "data": {
      "text/plain": [
       "<simbricks.orchestration.system.eth.EthChannel at 0x7e3518178ee0>"
      ]
     },
     "execution_count": 8,
     "metadata": {},
     "output_type": "execute_result"
    }
   ],
   "source": [
    "# create switch and connect NICs to switch\n",
    "switch = sys_mod.EthSwitch(syst)\n",
    "switch.connect_eth_peer_if(nic0._eth_if)\n",
    "switch.connect_eth_peer_if(nic1._eth_if)"
   ]
  },
  {
   "cell_type": "markdown",
   "id": "93347d9e-b4f4-4e3f-a7c8-c553ba990813",
   "metadata": {},
   "source": [
    "And that's it! We have assembled our first SimBricks system specification. We continue buy making a simulation choice."
   ]
  },
  {
   "cell_type": "markdown",
   "id": "3546d1ec-0366-4d57-bf48-1570775739ce",
   "metadata": {},
   "source": [
    "### 1.2. Simulation Specification\n",
    "In the previoius step we specified the system that we want to simulate. After we did this we now have to make a choice on **what simulators** we want to use to simulate this system.\n",
    "\n",
    "When thinking about this, one realizes that e.g. a linux host might be simualted be either QEMU or Gem5 whereas a NIC might e.g. be simulated by using a behavioral model or by simulating the actual RTL. The next step is all about making this choice."
   ]
  },
  {
   "cell_type": "markdown",
   "id": "417cde6d-6376-4b5e-b759-a2028d1331a5",
   "metadata": {},
   "source": [
    "The first step is to create a Simulation object:"
   ]
  },
  {
   "cell_type": "code",
   "execution_count": 9,
   "id": "2df3f2a6-cb3a-45fc-8d86-9c1ab079f568",
   "metadata": {},
   "outputs": [],
   "source": [
    "\"\"\"\n",
    "Simulator Choice\n",
    "\"\"\"\n",
    "sim = simulation.Simulation(name=\"My-simple-simulation\", system=syst)"
   ]
  },
  {
   "cell_type": "markdown",
   "id": "09305f60-b9b4-4693-b3e6-17dfb05fecdb",
   "metadata": {},
   "source": [
    "In the next step, we go over the system components that we created before (i.e. the two hosts, the two nics and the switch) and create an simulator instance. Each of the system components is then added to the simulator that is supposed to simulate that component. \n",
    "\n",
    "Depending on whether simulator supports this, you can also choose to add multiple of those components to the same simulator instance, thus causing a single simulator to simulate mulstiple components at once. This can be very useful. An example of this can be seen in the __[networking-case-study](https://github.com/simbricks/simbricks-examples/tree/orchestration-framework-rework/networking-case-study)__ example within this repo, were we use a single ns3 instance to simulate multiple components (e.g. switches)."
   ]
  },
  {
   "cell_type": "code",
   "execution_count": 10,
   "id": "251e1ecf-cd50-4054-aa6d-eb08b9511133",
   "metadata": {},
   "outputs": [],
   "source": [
    "host_inst0 = simulation.QemuSim(sim)\n",
    "host_inst0.add(host0)\n",
    "\n",
    "host_inst1 = simulation.QemuSim(sim)\n",
    "host_inst1.add(host1)\n",
    "\n",
    "nic_inst0 = simulation.I40eNicSim(sim)\n",
    "nic_inst0.add(nic0)\n",
    "\n",
    "nic_inst1 = simulation.I40eNicSim(sim)\n",
    "nic_inst1.add(nic1)\n",
    "\n",
    "net_inst = simulation.SwitchNet(sim)\n",
    "net_inst.add(switch)"
   ]
  },
  {
   "cell_type": "markdown",
   "id": "3742b839-0e6e-4389-b1b3-0c03319b8e90",
   "metadata": {},
   "source": [
    "If you read the SimBricks paper you know that SimBrciks connects simulator instances via shared memory queues to which we refer as `Channel` in the orchestration framework. Those channels can be used in synchronized mode or unsynchronized (default) mode. To e.g. enable to run an experiment synchronized (this is required for accurate time measurements) we need to enable synchronization for those channels:  "
   ]
  },
  {
   "cell_type": "code",
   "execution_count": 11,
   "id": "44c86214-a478-4415-93e0-11912dca938e",
   "metadata": {},
   "outputs": [],
   "source": [
    "# if synchronized set, enable synchronization for all SimBricks channels\n",
    "synchronized = False\n",
    "if synchronized:\n",
    "    sim.enable_synchronization(amount=500, ratio=utils_base.Time.Nanoseconds)"
   ]
  },
  {
   "cell_type": "markdown",
   "id": "37cebf03-7b8b-4cc5-92eb-736d9e7c441a",
   "metadata": {},
   "source": [
    "### 1.3 Instantiation\n",
    "\n",
    "The last thing we need to take care of in order to simulate our virtual prototype is to create an instantiation of it. In our example we create a very simple instantiation and assign the previously created simulation to it. That's already it in this example and were ready for execution. \n",
    "\n",
    "Even though it might seem not useful at this point, in more sophisticated experiment setups the instantiation is used to specify if artifacts of the simulation shall be created, whether checkpointing shall be used to reduce simulation times or to configure distributed simulations. For **simplicity** we ignore these more advanced use cases in this example."
   ]
  },
  {
   "cell_type": "code",
   "execution_count": 12,
   "id": "d5c24f06-3b46-43b2-9b8b-77edc7cfc47f",
   "metadata": {},
   "outputs": [],
   "source": [
    "\"\"\"\n",
    "Create an instatiation of your virtual prototype\n",
    "\"\"\"\n",
    "instantiations = []\n",
    "instance = instantiation.Instantiation(sim)\n",
    "instantiations.append(instance)"
   ]
  },
  {
   "cell_type": "markdown",
   "id": "d3197c79-37cb-42c0-a4fb-7a5e95f0df13",
   "metadata": {},
   "source": [
    "## 2 Running the Simulation\n",
    "\n",
    "**TODO: talk about the general execution model of SimBRciks, i.e. client <--> backend <--> runner**"
   ]
  },
  {
   "cell_type": "markdown",
   "id": "c6a5b34f-5919-4aff-a2ee-f70937a41ef1",
   "metadata": {},
   "source": [
    "### 2.1 Running the simulation via CLI"
   ]
  },
  {
   "cell_type": "code",
   "execution_count": 13,
   "id": "b4097472-1e7a-4288-aef1-b8f276d1503a",
   "metadata": {},
   "outputs": [],
   "source": []
  },
  {
   "cell_type": "markdown",
   "id": "9b94a3f6-610c-4dcf-86ea-81d1528991cb",
   "metadata": {},
   "source": [
    "### 2.2 Running the simulation through the python API\n",
    "\n",
    "SimBricks does also offer a programmatic way to create and submit virtual prototypes to the SimBricks backend in order to schedule their execution on a runner. TODO"
   ]
  },
  {
   "cell_type": "code",
   "execution_count": 15,
   "id": "cf0d46b8-3010-4dd3-9e53-3bcb011f8047",
   "metadata": {},
   "outputs": [
    {
     "ename": "ClientResponseError",
     "evalue": "404, message='Not Found', url=URL('https://app.simbricks.io/api/ns/Demo/-/systems')",
     "output_type": "error",
     "traceback": [
      "\u001b[0;31m---------------------------------------------------------------------------\u001b[0m",
      "\u001b[0;31mClientResponseError\u001b[0m                       Traceback (most recent call last)",
      "Cell \u001b[0;32mIn[15], line 2\u001b[0m\n\u001b[1;32m      1\u001b[0m \u001b[38;5;66;03m# create and send simulation run to the SimBricks backend\u001b[39;00m\n\u001b[0;32m----> 2\u001b[0m run_id \u001b[38;5;241m=\u001b[39m \u001b[38;5;28;01mawait\u001b[39;00m opus_base\u001b[38;5;241m.\u001b[39mcreate_run(instance)\n\u001b[1;32m      4\u001b[0m \u001b[38;5;66;03m# helper function to create and parse the experiment output\u001b[39;00m\n\u001b[1;32m      5\u001b[0m \u001b[38;5;28;01masync\u001b[39;00m \u001b[38;5;28;01mdef\u001b[39;00m\u001b[38;5;250m \u001b[39m\u001b[38;5;21miperf_throughput\u001b[39m() \u001b[38;5;241m-\u001b[39m\u001b[38;5;241m>\u001b[39m \u001b[38;5;28;01mNone\u001b[39;00m:\n\u001b[1;32m      6\u001b[0m     \u001b[38;5;66;03m# Regex to match output lines from iperf client\u001b[39;00m\n",
      "File \u001b[0;32m~/startup/simbricks-examples/virtual-env/lib/python3.10/site-packages/simbricks/client/opus/base.py:148\u001b[0m, in \u001b[0;36mcreate_run\u001b[0;34m(instantiation)\u001b[0m\n\u001b[1;32m    145\u001b[0m simulation \u001b[38;5;241m=\u001b[39m instantiation\u001b[38;5;241m.\u001b[39msimulation\n\u001b[1;32m    146\u001b[0m system \u001b[38;5;241m=\u001b[39m simulation\u001b[38;5;241m.\u001b[39msystem\n\u001b[0;32m--> 148\u001b[0m system_id \u001b[38;5;241m=\u001b[39m \u001b[38;5;28;01mawait\u001b[39;00m submit_system(system\u001b[38;5;241m=\u001b[39msystem)\n\u001b[1;32m    149\u001b[0m sim_id \u001b[38;5;241m=\u001b[39m \u001b[38;5;28;01mawait\u001b[39;00m submit_simulation(system_id\u001b[38;5;241m=\u001b[39msystem_id, simulation\u001b[38;5;241m=\u001b[39msimulation)\n\u001b[1;32m    150\u001b[0m inst_id \u001b[38;5;241m=\u001b[39m \u001b[38;5;28;01mawait\u001b[39;00m submit_instantiation(simulation_id\u001b[38;5;241m=\u001b[39msim_id, instantiation\u001b[38;5;241m=\u001b[39minstantiation)\n",
      "File \u001b[0;32m~/startup/simbricks-examples/virtual-env/lib/python3.10/site-packages/simbricks/client/opus/base.py:115\u001b[0m, in \u001b[0;36msubmit_system\u001b[0;34m(system)\u001b[0m\n\u001b[1;32m    114\u001b[0m \u001b[38;5;28;01masync\u001b[39;00m \u001b[38;5;28;01mdef\u001b[39;00m\u001b[38;5;250m \u001b[39m\u001b[38;5;21msubmit_system\u001b[39m(system: system\u001b[38;5;241m.\u001b[39mSystem) \u001b[38;5;241m-\u001b[39m\u001b[38;5;241m>\u001b[39m \u001b[38;5;28mint\u001b[39m:\n\u001b[0;32m--> 115\u001b[0m     system \u001b[38;5;241m=\u001b[39m \u001b[38;5;28;01mawait\u001b[39;00m provider\u001b[38;5;241m.\u001b[39mclient_provider\u001b[38;5;241m.\u001b[39msimbricks_client\u001b[38;5;241m.\u001b[39mcreate_system(system)\n\u001b[1;32m    116\u001b[0m     system_id \u001b[38;5;241m=\u001b[39m \u001b[38;5;28mint\u001b[39m(system[\u001b[38;5;124m\"\u001b[39m\u001b[38;5;124mid\u001b[39m\u001b[38;5;124m\"\u001b[39m])\n\u001b[1;32m    117\u001b[0m     \u001b[38;5;28;01mreturn\u001b[39;00m system_id\n",
      "File \u001b[0;32m~/startup/simbricks-examples/virtual-env/lib/python3.10/site-packages/simbricks/client/client.py:317\u001b[0m, in \u001b[0;36mSimBricksClient.create_system\u001b[0;34m(self, system)\u001b[0m\n\u001b[1;32m    315\u001b[0m sys_json \u001b[38;5;241m=\u001b[39m json\u001b[38;5;241m.\u001b[39mdumps(system\u001b[38;5;241m.\u001b[39mtoJSON())\n\u001b[1;32m    316\u001b[0m json_obj \u001b[38;5;241m=\u001b[39m {\u001b[38;5;124m\"\u001b[39m\u001b[38;5;124msb_json\u001b[39m\u001b[38;5;124m\"\u001b[39m: sys_json}\n\u001b[0;32m--> 317\u001b[0m \u001b[38;5;28;01masync\u001b[39;00m \u001b[38;5;28;01mwith\u001b[39;00m \u001b[38;5;28mself\u001b[39m\u001b[38;5;241m.\u001b[39m_ns_client\u001b[38;5;241m.\u001b[39mpost(url\u001b[38;5;241m=\u001b[39m\u001b[38;5;124m\"\u001b[39m\u001b[38;5;124m/systems\u001b[39m\u001b[38;5;124m\"\u001b[39m, json\u001b[38;5;241m=\u001b[39mjson_obj) \u001b[38;5;28;01mas\u001b[39;00m resp:\n\u001b[1;32m    318\u001b[0m     \u001b[38;5;28;01mreturn\u001b[39;00m \u001b[38;5;28;01mawait\u001b[39;00m resp\u001b[38;5;241m.\u001b[39mjson()\n",
      "File \u001b[0;32m/usr/lib/python3.10/contextlib.py:199\u001b[0m, in \u001b[0;36m_AsyncGeneratorContextManager.__aenter__\u001b[0;34m(self)\u001b[0m\n\u001b[1;32m    197\u001b[0m \u001b[38;5;28;01mdel\u001b[39;00m \u001b[38;5;28mself\u001b[39m\u001b[38;5;241m.\u001b[39margs, \u001b[38;5;28mself\u001b[39m\u001b[38;5;241m.\u001b[39mkwds, \u001b[38;5;28mself\u001b[39m\u001b[38;5;241m.\u001b[39mfunc\n\u001b[1;32m    198\u001b[0m \u001b[38;5;28;01mtry\u001b[39;00m:\n\u001b[0;32m--> 199\u001b[0m     \u001b[38;5;28;01mreturn\u001b[39;00m \u001b[38;5;28;01mawait\u001b[39;00m anext(\u001b[38;5;28mself\u001b[39m\u001b[38;5;241m.\u001b[39mgen)\n\u001b[1;32m    200\u001b[0m \u001b[38;5;28;01mexcept\u001b[39;00m \u001b[38;5;167;01mStopAsyncIteration\u001b[39;00m:\n\u001b[1;32m    201\u001b[0m     \u001b[38;5;28;01mraise\u001b[39;00m \u001b[38;5;167;01mRuntimeError\u001b[39;00m(\u001b[38;5;124m\"\u001b[39m\u001b[38;5;124mgenerator didn\u001b[39m\u001b[38;5;124m'\u001b[39m\u001b[38;5;124mt yield\u001b[39m\u001b[38;5;124m\"\u001b[39m) \u001b[38;5;28;01mfrom\u001b[39;00m\u001b[38;5;250m \u001b[39m\u001b[38;5;28;01mNone\u001b[39;00m\n",
      "File \u001b[0;32m~/startup/simbricks-examples/virtual-env/lib/python3.10/site-packages/simbricks/client/client.py:230\u001b[0m, in \u001b[0;36mNSClient.post\u001b[0;34m(self, url, data, **kwargs)\u001b[0m\n\u001b[1;32m    226\u001b[0m \u001b[38;5;129m@contextlib\u001b[39m\u001b[38;5;241m.\u001b[39masynccontextmanager\n\u001b[1;32m    227\u001b[0m \u001b[38;5;28;01masync\u001b[39;00m \u001b[38;5;28;01mdef\u001b[39;00m\u001b[38;5;250m \u001b[39m\u001b[38;5;21mpost\u001b[39m(\n\u001b[1;32m    228\u001b[0m     \u001b[38;5;28mself\u001b[39m, url: \u001b[38;5;28mstr\u001b[39m, data: typing\u001b[38;5;241m.\u001b[39mAny \u001b[38;5;241m=\u001b[39m \u001b[38;5;28;01mNone\u001b[39;00m, \u001b[38;5;241m*\u001b[39m\u001b[38;5;241m*\u001b[39mkwargs: typing\u001b[38;5;241m.\u001b[39mAny\n\u001b[1;32m    229\u001b[0m ) \u001b[38;5;241m-\u001b[39m\u001b[38;5;241m>\u001b[39m typing\u001b[38;5;241m.\u001b[39mAsyncIterator[aiohttp\u001b[38;5;241m.\u001b[39mClientResponse]:\n\u001b[0;32m--> 230\u001b[0m     \u001b[38;5;28;01masync\u001b[39;00m \u001b[38;5;28;01mwith\u001b[39;00m \u001b[38;5;28mself\u001b[39m\u001b[38;5;241m.\u001b[39m_base_client\u001b[38;5;241m.\u001b[39mpost(url\u001b[38;5;241m=\u001b[39m\u001b[38;5;28mself\u001b[39m\u001b[38;5;241m.\u001b[39m_build_ns_prefix(url\u001b[38;5;241m=\u001b[39murl), data\u001b[38;5;241m=\u001b[39mdata, \u001b[38;5;241m*\u001b[39m\u001b[38;5;241m*\u001b[39mkwargs) \u001b[38;5;28;01mas\u001b[39;00m resp:\n\u001b[1;32m    231\u001b[0m         \u001b[38;5;28;01myield\u001b[39;00m resp\n",
      "File \u001b[0;32m/usr/lib/python3.10/contextlib.py:199\u001b[0m, in \u001b[0;36m_AsyncGeneratorContextManager.__aenter__\u001b[0;34m(self)\u001b[0m\n\u001b[1;32m    197\u001b[0m \u001b[38;5;28;01mdel\u001b[39;00m \u001b[38;5;28mself\u001b[39m\u001b[38;5;241m.\u001b[39margs, \u001b[38;5;28mself\u001b[39m\u001b[38;5;241m.\u001b[39mkwds, \u001b[38;5;28mself\u001b[39m\u001b[38;5;241m.\u001b[39mfunc\n\u001b[1;32m    198\u001b[0m \u001b[38;5;28;01mtry\u001b[39;00m:\n\u001b[0;32m--> 199\u001b[0m     \u001b[38;5;28;01mreturn\u001b[39;00m \u001b[38;5;28;01mawait\u001b[39;00m anext(\u001b[38;5;28mself\u001b[39m\u001b[38;5;241m.\u001b[39mgen)\n\u001b[1;32m    200\u001b[0m \u001b[38;5;28;01mexcept\u001b[39;00m \u001b[38;5;167;01mStopAsyncIteration\u001b[39;00m:\n\u001b[1;32m    201\u001b[0m     \u001b[38;5;28;01mraise\u001b[39;00m \u001b[38;5;167;01mRuntimeError\u001b[39;00m(\u001b[38;5;124m\"\u001b[39m\u001b[38;5;124mgenerator didn\u001b[39m\u001b[38;5;124m'\u001b[39m\u001b[38;5;124mt yield\u001b[39m\u001b[38;5;124m\"\u001b[39m) \u001b[38;5;28;01mfrom\u001b[39;00m\u001b[38;5;250m \u001b[39m\u001b[38;5;28;01mNone\u001b[39;00m\n",
      "File \u001b[0;32m~/startup/simbricks-examples/virtual-env/lib/python3.10/site-packages/simbricks/client/client.py:113\u001b[0m, in \u001b[0;36mBaseClient.post\u001b[0;34m(self, url, data, **kwargs)\u001b[0m\n\u001b[1;32m    106\u001b[0m \u001b[38;5;129m@contextlib\u001b[39m\u001b[38;5;241m.\u001b[39masynccontextmanager\n\u001b[1;32m    107\u001b[0m \u001b[38;5;28;01masync\u001b[39;00m \u001b[38;5;28;01mdef\u001b[39;00m\u001b[38;5;250m \u001b[39m\u001b[38;5;21mpost\u001b[39m(\n\u001b[1;32m    108\u001b[0m     \u001b[38;5;28mself\u001b[39m,\n\u001b[0;32m   (...)\u001b[0m\n\u001b[1;32m    111\u001b[0m     \u001b[38;5;241m*\u001b[39m\u001b[38;5;241m*\u001b[39mkwargs: typing\u001b[38;5;241m.\u001b[39mAny,\n\u001b[1;32m    112\u001b[0m ) \u001b[38;5;241m-\u001b[39m\u001b[38;5;241m>\u001b[39m typing\u001b[38;5;241m.\u001b[39mAsyncIterator[aiohttp\u001b[38;5;241m.\u001b[39mClientResponse]:\n\u001b[0;32m--> 113\u001b[0m     \u001b[38;5;28;01masync\u001b[39;00m \u001b[38;5;28;01mwith\u001b[39;00m \u001b[38;5;28mself\u001b[39m\u001b[38;5;241m.\u001b[39mrequest(meth\u001b[38;5;241m=\u001b[39maiohttp\u001b[38;5;241m.\u001b[39mhdrs\u001b[38;5;241m.\u001b[39mMETH_POST, url\u001b[38;5;241m=\u001b[39murl, data\u001b[38;5;241m=\u001b[39mdata, \u001b[38;5;241m*\u001b[39m\u001b[38;5;241m*\u001b[39mkwargs) \u001b[38;5;28;01mas\u001b[39;00m resp:\n\u001b[1;32m    114\u001b[0m         \u001b[38;5;28;01myield\u001b[39;00m resp\n",
      "File \u001b[0;32m/usr/lib/python3.10/contextlib.py:199\u001b[0m, in \u001b[0;36m_AsyncGeneratorContextManager.__aenter__\u001b[0;34m(self)\u001b[0m\n\u001b[1;32m    197\u001b[0m \u001b[38;5;28;01mdel\u001b[39;00m \u001b[38;5;28mself\u001b[39m\u001b[38;5;241m.\u001b[39margs, \u001b[38;5;28mself\u001b[39m\u001b[38;5;241m.\u001b[39mkwds, \u001b[38;5;28mself\u001b[39m\u001b[38;5;241m.\u001b[39mfunc\n\u001b[1;32m    198\u001b[0m \u001b[38;5;28;01mtry\u001b[39;00m:\n\u001b[0;32m--> 199\u001b[0m     \u001b[38;5;28;01mreturn\u001b[39;00m \u001b[38;5;28;01mawait\u001b[39;00m anext(\u001b[38;5;28mself\u001b[39m\u001b[38;5;241m.\u001b[39mgen)\n\u001b[1;32m    200\u001b[0m \u001b[38;5;28;01mexcept\u001b[39;00m \u001b[38;5;167;01mStopAsyncIteration\u001b[39;00m:\n\u001b[1;32m    201\u001b[0m     \u001b[38;5;28;01mraise\u001b[39;00m \u001b[38;5;167;01mRuntimeError\u001b[39;00m(\u001b[38;5;124m\"\u001b[39m\u001b[38;5;124mgenerator didn\u001b[39m\u001b[38;5;124m'\u001b[39m\u001b[38;5;124mt yield\u001b[39m\u001b[38;5;124m\"\u001b[39m) \u001b[38;5;28;01mfrom\u001b[39;00m\u001b[38;5;250m \u001b[39m\u001b[38;5;28;01mNone\u001b[39;00m\n",
      "File \u001b[0;32m~/startup/simbricks-examples/virtual-env/lib/python3.10/site-packages/simbricks/client/client.py:93\u001b[0m, in \u001b[0;36mBaseClient.request\u001b[0;34m(self, meth, url, data, retry, **kwargs)\u001b[0m\n\u001b[1;32m     91\u001b[0m     \u001b[38;5;28;01mraise\u001b[39;00m \u001b[38;5;167;01mException\u001b[39;00m(\u001b[38;5;124mf\u001b[39m\u001b[38;5;124m\"\u001b[39m\u001b[38;5;124mError sending request: \u001b[39m\u001b[38;5;132;01m{\u001b[39;00mmsg\u001b[38;5;132;01m}\u001b[39;00m\u001b[38;5;124m\"\u001b[39m)\n\u001b[1;32m     92\u001b[0m \u001b[38;5;28;01melse\u001b[39;00m:\n\u001b[0;32m---> 93\u001b[0m     \u001b[43mresp\u001b[49m\u001b[38;5;241;43m.\u001b[39;49m\u001b[43mraise_for_status\u001b[49m\u001b[43m(\u001b[49m\u001b[43m)\u001b[49m  \u001b[38;5;66;03m# TODO: handel gracefully\u001b[39;00m\n\u001b[1;32m     94\u001b[0m     \u001b[38;5;28;01myield\u001b[39;00m resp\n",
      "File \u001b[0;32m~/startup/simbricks-examples/virtual-env/lib/python3.10/site-packages/aiohttp/client_reqrep.py:1070\u001b[0m, in \u001b[0;36mClientResponse.raise_for_status\u001b[0;34m(self)\u001b[0m\n\u001b[1;32m   1068\u001b[0m \u001b[38;5;28;01massert\u001b[39;00m \u001b[38;5;28mself\u001b[39m\u001b[38;5;241m.\u001b[39mreason \u001b[38;5;129;01mis\u001b[39;00m \u001b[38;5;129;01mnot\u001b[39;00m \u001b[38;5;28;01mNone\u001b[39;00m\n\u001b[1;32m   1069\u001b[0m \u001b[38;5;28mself\u001b[39m\u001b[38;5;241m.\u001b[39mrelease()\n\u001b[0;32m-> 1070\u001b[0m \u001b[38;5;28;01mraise\u001b[39;00m ClientResponseError(\n\u001b[1;32m   1071\u001b[0m     \u001b[38;5;28mself\u001b[39m\u001b[38;5;241m.\u001b[39mrequest_info,\n\u001b[1;32m   1072\u001b[0m     \u001b[38;5;28mself\u001b[39m\u001b[38;5;241m.\u001b[39mhistory,\n\u001b[1;32m   1073\u001b[0m     status\u001b[38;5;241m=\u001b[39m\u001b[38;5;28mself\u001b[39m\u001b[38;5;241m.\u001b[39mstatus,\n\u001b[1;32m   1074\u001b[0m     message\u001b[38;5;241m=\u001b[39m\u001b[38;5;28mself\u001b[39m\u001b[38;5;241m.\u001b[39mreason,\n\u001b[1;32m   1075\u001b[0m     headers\u001b[38;5;241m=\u001b[39m\u001b[38;5;28mself\u001b[39m\u001b[38;5;241m.\u001b[39mheaders,\n\u001b[1;32m   1076\u001b[0m )\n",
      "\u001b[0;31mClientResponseError\u001b[0m: 404, message='Not Found', url=URL('https://app.simbricks.io/api/ns/Demo/-/systems')"
     ]
    }
   ],
   "source": [
    "# create and send simulation run to the SimBricks backend\n",
    "run_id = await opus_base.create_run(instance)"
   ]
  },
  {
   "cell_type": "markdown",
   "id": "3c1101af-cee8-412b-bec2-1615138ad028",
   "metadata": {},
   "source": [
    "**TODO: parse output etc, very easy `ConsoleLineGenerator` **"
   ]
  },
  {
   "cell_type": "code",
   "execution_count": null,
   "id": "23c9e127-e917-408b-bf25-43362915e51a",
   "metadata": {},
   "outputs": [],
   "source": [
    "# helper function to create and parse the experiment output\n",
    "async def iperf_throughput() -> None:\n",
    "    # Regex to match output lines from iperf client\n",
    "    tp_pat = re.compile(\n",
    "        r\"\\[ *\\d*\\] *([0-9\\.]*)- *([0-9\\.]*) sec.*Bytes *([0-9\\.]*) ([GM])bits.*\"\n",
    "    )\n",
    "    throughputs = []\n",
    "    # iterate through host output\n",
    "    line_gen = opus_base.ConsoleLineGenerator(run_id=run_id, follow=True)\n",
    "    async for _, line in line_gen.generate_lines():\n",
    "        m = tp_pat.match(line)\n",
    "        if not m:\n",
    "            continue\n",
    "        if m.group(4) == \"G\":\n",
    "            throughputs.append(float(m.group(3)) * 1000)\n",
    "        elif m.group(4) == \"M\":\n",
    "            throughputs.append(float(m.group(3)))\n",
    "\n",
    "    avg_throughput = sum(throughputs) / len(throughputs)\n",
    "    print(f\"Iperf Throughput : {avg_throughput} Mbps\")\n",
    "\n",
    "await iperf_throughput()"
   ]
  },
  {
   "cell_type": "markdown",
   "id": "93082727-1349-481a-8068-d6d4557bc9ed",
   "metadata": {
    "tags": []
   },
   "source": [
    "### 1.2. Running the Simulation\n",
    "\n",
    "Now that we have assembled our simulation, the next step is running it. Typically we would save the experiment to a `.py` file, and then use the `run.py` script and run it from the terminal. (Details on how to do that below.) Here we will directly use our python orchestration mechanisms to run a simple local experiment.\n",
    "\n",
    "For this we first specify the `LocalExecutor` to run our simulation locally directly by starting the commands from the python process. (other executors execute component simulators on remote hosts, particularly useful for distributed simulations spanning multiple hosts)"
   ]
  },
  {
   "cell_type": "code",
   "execution_count": null,
   "id": "efd720b7-0957-4c05-8548-d19cbc766855",
   "metadata": {
    "scrolled": true,
    "tags": []
   },
   "outputs": [],
   "source": [
    "import simbricks.orchestration.experiments as exp\n",
    "import simbricks.orchestration.experiment.experiment_environment as expenv\n",
    "import simbricks.orchestration.experiment.experiment_output as expout\n",
    "import simbricks.orchestration.exectools as exectools\n",
    "import simbricks.orchestration.runtime as runtime\n",
    "import simbricks.orchestration.runners as runners\n",
    "\n",
    "executor = exectools.LocalExecutor()"
   ]
  },
  {
   "cell_type": "markdown",
   "id": "74169fa7-e7c6-49fa-8bdb-829085ca0352",
   "metadata": {},
   "source": [
    "Next, we set up an experiment environment, which specifies paths for simulator executables, unix sockets, shared memory regions, working copies of simulator disk images, and other working files of different component simulators. Here we just pass in the path to our SimBricks repo and a new working directory for this experiment. For the rest the `ExpEnv` has sensible defaults that can be customized if necessary."
   ]
  },
  {
   "cell_type": "code",
   "execution_count": null,
   "id": "ded0862d-cc6f-42bc-9a33-d4b6103f171b",
   "metadata": {
    "scrolled": true,
    "tags": []
   },
   "outputs": [],
   "source": [
    "workdir = './out/lab1_test1'\n",
    "env = expenv.ExpEnv(repo_path='/simbricks', workdir=workdir, cpdir=workdir)"
   ]
  },
  {
   "cell_type": "markdown",
   "id": "811e5407-2c45-48df-b9af-40c5993f8cce",
   "metadata": {},
   "source": [
    "Now we create a `Run` object, which is intended for a single execution of an experiment, and stores the experiment, and the environment. For the run we then initialize the output and working directory."
   ]
  },
  {
   "cell_type": "code",
   "execution_count": null,
   "id": "865c0d43-fb0b-4db6-8d19-1712cf2a6b3f",
   "metadata": {
    "scrolled": true,
    "tags": []
   },
   "outputs": [],
   "source": [
    "run = runtime.Run(experiment=e, index=0, env=env, outpath=workdir, prereq=None)\n",
    "await run.prep_dirs(executor)"
   ]
  },
  {
   "cell_type": "markdown",
   "id": "c6af4bb6-d870-4703-a656-f189b095eec4",
   "metadata": {},
   "source": [
    "Finally, we create a runner responsible for orchestrating the simulation run. The execution results in an output object that contains all simulator outputs, commands, executed, timestamps, and other metadata for the run. We create the runner with the verbose flag set here, so we also see the output on the console as the simulation executes, helpful for debugging but all this information is also contained in the output object."
   ]
  },
  {
   "cell_type": "code",
   "execution_count": null,
   "id": "753e7d68-3a46-4adc-a867-0a95c6b367b0",
   "metadata": {
    "scrolled": true,
    "tags": []
   },
   "outputs": [],
   "source": [
    "runner = runners.ExperimentSimpleRunner(executor, exp=e, env=env, verbose=True)\n",
    "await runner.prepare()\n",
    "output = await runner.run()"
   ]
  },
  {
   "cell_type": "markdown",
   "id": "f6a35dd8-68c8-46b4-989b-3b36fc6c6288",
   "metadata": {},
   "source": [
    "#### Runing Simulations from the Terminal\n",
    "To run the same simulation from the terminal, we would save the experiment configuration to  a `.py` file, which has to contain a list `experiments` of all experiment configurations in the file (here `experiments = [e]` at the bottom of the file would suffice):"
   ]
  },
  {
   "cell_type": "code",
   "execution_count": null,
   "id": "eb3b49a6-07c1-4b54-ab8e-e9632c35591c",
   "metadata": {
    "scrolled": true,
    "tags": [
     "hide-input"
    ]
   },
   "outputs": [],
   "source": [
    "# This code just displays nicely formatted contents of my-simple-experiment.py\n",
    "\n",
    "import IPython\n",
    "\n",
    "\n",
    "def display_source(code):\n",
    "\n",
    "    def _jupyterlab_repr_html_(self):\n",
    "        from pygments import highlight\n",
    "        from pygments.formatters import HtmlFormatter\n",
    "\n",
    "        fmt = HtmlFormatter()\n",
    "        style = '<style>{}\\n{}</style>'.format(\n",
    "            fmt.get_style_defs('.output_html'),\n",
    "            fmt.get_style_defs('.jp-RenderedHTML')\n",
    "        )\n",
    "        return style + highlight(self.data, self._get_lexer(), fmt)\n",
    "\n",
    "    # Replace _repr_html_ with our own version that adds the 'jp-RenderedHTML' class\n",
    "    # in addition to 'output_html'.\n",
    "    IPython.display.Code._repr_html_ = _jupyterlab_repr_html_\n",
    "    return IPython.display.Code(data=code, language='python3')\n",
    "\n",
    "\n",
    "with open('my-simple-experiment.py', 'r') as f:\n",
    "    test2_src = f.read()\n",
    "\n",
    "display_source(test2_src)"
   ]
  },
  {
   "cell_type": "markdown",
   "id": "1afbce04-f083-4bcc-8cb9-e2a712be5525",
   "metadata": {},
   "source": [
    "This file can then be passed to `simbricks-run`. Assuming we save it as `my-simple-experiment.py` we would run this simulation with `simbricks-run --verbose my-simple-experiment.py`. By default `simbricks-run` will use `out/EXPERIMENT-NAME/N` as the working directory for the N-th run of an experiment, and store the output in json format as `out/EXPERIMENT-NAME-N.json`. If the json file for a run already exists execution of that run is skipped unless `--force` is also specified."
   ]
  },
  {
   "cell_type": "code",
   "execution_count": null,
   "id": "4c1c027d-2154-4a76-88fc-379568d75f04",
   "metadata": {
    "scrolled": true,
    "tags": []
   },
   "outputs": [],
   "source": [
    "import os\n",
    "\n",
    "os.system('simbricks-run --verbose --force my-simple-experiment.py')"
   ]
  },
  {
   "cell_type": "markdown",
   "id": "525fcf90-9ae0-4fd6-be70-8fc2bea003c0",
   "metadata": {},
   "source": [
    "The experiment output is now stored in `out/my-simple-experiment-1.json` as json from where we later load it for processing:"
   ]
  },
  {
   "cell_type": "code",
   "execution_count": null,
   "id": "737a6615-5c9c-4630-880b-519aa2875e13",
   "metadata": {
    "scrolled": true,
    "tags": []
   },
   "outputs": [],
   "source": [
    "output_2 = expout.ExpOutput(e) # TODO: refactor so this does not take e as a parameter!\n",
    "output_2.load('out/my-simple-experiment-1.json')"
   ]
  },
  {
   "cell_type": "markdown",
   "id": "d483941b-8fb5-4b7b-93d1-d995a79924fa",
   "metadata": {},
   "source": [
    "### 1.3. Processing the Output\n",
    "After running a simulation, the `ExpOutput` objects contain timestamps for when the simulation started and stopped, the commands executed for each simulator, and per-simulator output, including the console for host simulator, as well as additional metadata. For long running simulations in particular, we recommend first running simulations and storing the output to json files (through `run.py` or by calling `ExpOutput.dumps()` from python), and post-processing the obtained data in a separate step. This avoids having to re-run potentially long-running simulations when tweaking the post processing.\n",
    "\n",
    "Below is a simple post-processing example parsing the `iperf` throughput from the output of the two simulations run above:"
   ]
  },
  {
   "cell_type": "code",
   "execution_count": null,
   "id": "e8ca2596-0d38-42ca-95e7-f21c38e16a95",
   "metadata": {},
   "outputs": [],
   "source": [
    "import re\n",
    "\n",
    "\n",
    "# Parse iperf throughput for specified host from output\n",
    "def parse_iperf_throughput(out: expout.ExpOutput, host: sim.HostSim) -> float:\n",
    "    # Regex to match output lines from iperf client\n",
    "    tp_pat = re.compile(\n",
    "        r'\\[ *\\d*\\] *([0-9\\.]*)- *([0-9\\.]*) sec.*Bytes *([0-9\\.]*) ([GM])bits.*'\n",
    "    )\n",
    "    throughputs = []\n",
    "    # iterate through host output\n",
    "    for l in out.sims[host.full_name()]['stdout']:\n",
    "        m = tp_pat.match(l)\n",
    "        if not m:\n",
    "            continue\n",
    "        if m.group(4) == 'G':\n",
    "            throughputs.append(float(m.group(3)) * 1000)\n",
    "        elif m.group(4) == 'M':\n",
    "            throughputs.append(float(m.group(3)))\n",
    "    return sum(throughputs) / len(throughputs)\n",
    "\n",
    "\n",
    "print(\n",
    "    'Throughput test 1: %.2f Mbps\\nSimulation time: %.2fs\\n' % (\n",
    "        parse_iperf_throughput(output, client),\n",
    "        output.end_time - output.start_time\n",
    "    )\n",
    ")\n",
    "print(\n",
    "    'Throughput test 2: %.2f Mbps\\nSimulation time: %.2f' % (\n",
    "        parse_iperf_throughput(output_2, client),\n",
    "        output_2.end_time - output_2.start_time\n",
    "    )\n",
    ")\n"
   ]
  },
  {
   "cell_type": "code",
   "execution_count": null,
   "id": "0896a172",
   "metadata": {},
   "outputs": [],
   "source": []
  }
 ],
 "metadata": {
  "interpreter": {
   "hash": "e7370f93d1d0cde622a1f8e1c04877d8463912d04d973331ad4851f04de6915a"
  },
  "kernelspec": {
   "display_name": "Python 3 (ipykernel)",
   "language": "python",
   "name": "python3"
  },
  "language_info": {
   "codemirror_mode": {
    "name": "ipython",
    "version": 3
   },
   "file_extension": ".py",
   "mimetype": "text/x-python",
   "name": "python",
   "nbconvert_exporter": "python",
   "pygments_lexer": "ipython3",
   "version": "3.10.12"
  }
 },
 "nbformat": 4,
 "nbformat_minor": 5
}
